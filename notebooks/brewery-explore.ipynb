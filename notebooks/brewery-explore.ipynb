{
 "cells": [
  {
   "cell_type": "code",
   "execution_count": 4,
   "id": "702e3672-6a34-4712-a53e-c92da8edb3b4",
   "metadata": {},
   "outputs": [],
   "source": [
    "from pyspark.sql import SparkSession\n",
    "\n",
    "spark = SparkSession.builder.appName(\"Brewery Data Explorer\").getOrCreate()\n",
    "spark.sparkContext.setLogLevel(\"ERROR\")"
   ]
  },
  {
   "cell_type": "code",
   "execution_count": 5,
   "id": "e3c4d685",
   "metadata": {},
   "outputs": [
    {
     "name": "stdout",
     "output_type": "stream",
     "text": [
      "+--------------+------------------------+-----------+\n",
      "|namespace     |tableName               |isTemporary|\n",
      "+--------------+------------------------+-----------+\n",
      "|db_all_brewery|gold_brewery_per_country|false      |\n",
      "|db_all_brewery|gold_brewery_per_type   |false      |\n",
      "|db_all_brewery|silver_brewery          |false      |\n",
      "+--------------+------------------------+-----------+\n",
      "\n"
     ]
    }
   ],
   "source": [
    "spark.sql(\"USE brewery.db_all_brewery\")\n",
    "spark.sql(\"SHOW TABLES\").show(100, truncate=False)"
   ]
  },
  {
   "cell_type": "code",
   "execution_count": 6,
   "id": "fefa1831",
   "metadata": {},
   "outputs": [
    {
     "name": "stdout",
     "output_type": "stream",
     "text": [
      "+----------------------------+---------------------------------------------------------------------------------------------------------------------------------------------------------------------------------------------------------------------------------------------------------------+-------+\n",
      "|col_name                    |data_type                                                                                                                                                                                                                                                      |comment|\n",
      "+----------------------------+---------------------------------------------------------------------------------------------------------------------------------------------------------------------------------------------------------------------------------------------------------------+-------+\n",
      "|id                          |string                                                                                                                                                                                                                                                         |null   |\n",
      "|name                        |string                                                                                                                                                                                                                                                         |null   |\n",
      "|brewery_type                |string                                                                                                                                                                                                                                                         |null   |\n",
      "|address_1                   |string                                                                                                                                                                                                                                                         |null   |\n",
      "|address_2                   |string                                                                                                                                                                                                                                                         |null   |\n",
      "|address_3                   |string                                                                                                                                                                                                                                                         |null   |\n",
      "|city                        |string                                                                                                                                                                                                                                                         |null   |\n",
      "|state_province              |string                                                                                                                                                                                                                                                         |null   |\n",
      "|postal_code                 |string                                                                                                                                                                                                                                                         |null   |\n",
      "|country                     |string                                                                                                                                                                                                                                                         |null   |\n",
      "|longitude                   |double                                                                                                                                                                                                                                                         |null   |\n",
      "|latitude                    |double                                                                                                                                                                                                                                                         |null   |\n",
      "|phone                       |string                                                                                                                                                                                                                                                         |null   |\n",
      "|website_url                 |string                                                                                                                                                                                                                                                         |null   |\n",
      "|state                       |string                                                                                                                                                                                                                                                         |null   |\n",
      "|street                      |string                                                                                                                                                                                                                                                         |null   |\n",
      "|                            |                                                                                                                                                                                                                                                               |       |\n",
      "|# Metadata Columns          |                                                                                                                                                                                                                                                               |       |\n",
      "|_spec_id                    |int                                                                                                                                                                                                                                                            |       |\n",
      "|_partition                  |struct<>                                                                                                                                                                                                                                                       |       |\n",
      "|_file                       |string                                                                                                                                                                                                                                                         |       |\n",
      "|_pos                        |bigint                                                                                                                                                                                                                                                         |       |\n",
      "|_deleted                    |boolean                                                                                                                                                                                                                                                        |       |\n",
      "|                            |                                                                                                                                                                                                                                                               |       |\n",
      "|# Detailed Table Information|                                                                                                                                                                                                                                                               |       |\n",
      "|Name                        |brewery.db_all_brewery.silver_brewery                                                                                                                                                                                                                          |       |\n",
      "|Type                        |MANAGED                                                                                                                                                                                                                                                        |       |\n",
      "|Location                    |s3a://breweries-data/silver/silver_brewery                                                                                                                                                                                                                     |       |\n",
      "|Provider                    |iceberg                                                                                                                                                                                                                                                        |       |\n",
      "|Owner                       |root                                                                                                                                                                                                                                                           |       |\n",
      "|Table Properties            |[brewery-pipeline.version=0.1.0,created-at=2025-03-31T03:50:14.256252954Z,current-snapshot-id=5297550224169397012,format=iceberg/parquet,format-version=2,sort-order=country ASC NULLS FIRST,write.distribution-mode=hash,write.parquet.compression-codec=zstd]|       |\n",
      "+----------------------------+---------------------------------------------------------------------------------------------------------------------------------------------------------------------------------------------------------------------------------------------------------------+-------+\n",
      "\n"
     ]
    },
    {
     "name": "stderr",
     "output_type": "stream",
     "text": [
      "25/03/31 04:08:13 ERROR ContextFactory: Query execution is null: can't emit event for executionId 9\n"
     ]
    }
   ],
   "source": [
    "spark.sql(\"DESCRIBE FORMATTED silver_brewery\").show(100, truncate=False)"
   ]
  },
  {
   "cell_type": "code",
   "execution_count": null,
   "id": "ef7b7998",
   "metadata": {},
   "outputs": [],
   "source": [
    "spark.sql(\"SELECT * FROM silver_brewery\").show(100, truncate=False)"
   ]
  },
  {
   "cell_type": "code",
   "execution_count": null,
   "id": "c6d54838",
   "metadata": {},
   "outputs": [],
   "source": [
    "spark.sql(\"SELECT * FROM gold_brewery_per_country\").show(100, truncate=False)"
   ]
  },
  {
   "cell_type": "code",
   "execution_count": null,
   "id": "dd15b39a",
   "metadata": {},
   "outputs": [],
   "source": [
    "spark.sql(\"SELECT * FROM gold_brewery_per_type\").show(100, truncate=False)"
   ]
  }
 ],
 "metadata": {
  "kernelspec": {
   "display_name": "Python 3 (ipykernel)",
   "language": "python",
   "name": "python3"
  },
  "language_info": {
   "codemirror_mode": {
    "name": "ipython",
    "version": 3
   },
   "file_extension": ".py",
   "mimetype": "text/x-python",
   "name": "python",
   "nbconvert_exporter": "python",
   "pygments_lexer": "ipython3",
   "version": "3.10.16"
  }
 },
 "nbformat": 4,
 "nbformat_minor": 5
}
